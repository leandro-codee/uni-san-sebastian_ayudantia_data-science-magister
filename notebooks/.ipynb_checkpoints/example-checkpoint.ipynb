{
 "cells": [
  {
   "cell_type": "markdown",
   "id": "be29a10b-c610-428c-96a5-39bfa227b1ec",
   "metadata": {},
   "source": [
    "# Entorno Local - Datascience"
   ]
  },
  {
   "cell_type": "markdown",
   "id": "49112eea-ffbd-4016-9dc0-d308f89c759f",
   "metadata": {},
   "source": [
    "## Importar librerías"
   ]
  },
  {
   "cell_type": "code",
   "execution_count": 2,
   "id": "78d22c52-01bb-43c9-ba3a-2c4114e9a0cb",
   "metadata": {},
   "outputs": [
    {
     "name": "stdout",
     "output_type": "stream",
     "text": [
      "✅ Librerías importadas correctamente\n"
     ]
    }
   ],
   "source": [
    "import pandas as pd\n",
    "import numpy as np\n",
    "import matplotlib.pyplot as plt\n",
    "import seaborn as sns\n",
    "import psycopg2\n",
    "from psycopg2.extras import RealDictCursor\n",
    "import requests\n",
    "import warnings\n",
    "warnings.filterwarnings('ignore')\n",
    "\n",
    "print(\"✅ Librerías importadas correctamente\")"
   ]
  },
  {
   "cell_type": "markdown",
   "id": "7c845cb1-162c-4a84-9111-382b632874d7",
   "metadata": {},
   "source": [
    "## Configurar conexión a PostgreSQL"
   ]
  },
  {
   "cell_type": "code",
   "execution_count": 3,
   "id": "1841fa5a-c29a-4708-bb45-405085751b11",
   "metadata": {},
   "outputs": [
    {
     "name": "stdout",
     "output_type": "stream",
     "text": [
      "✅ Conexión a PostgreSQL exitosa\n"
     ]
    }
   ],
   "source": [
    "# Configuración de conexión\n",
    "DB_CONFIG = {\n",
    "    'host': 'postgres',  # Nombre del servicio en Docker\n",
    "    'port': '5432',\n",
    "    'database': 'datascience',\n",
    "    'user': 'postgres',\n",
    "    'password': 'postgres'\n",
    "}\n",
    "\n",
    "def conectar_bd():\n",
    "    \"\"\"Conectar a PostgreSQL\"\"\"\n",
    "    try:\n",
    "        conn = psycopg2.connect(**DB_CONFIG)\n",
    "        print(\"✅ Conexión a PostgreSQL exitosa\")\n",
    "        return conn\n",
    "    except Exception as e:\n",
    "        print(f\"❌ Error conectando: {e}\")\n",
    "        return None\n",
    "\n",
    "# Probar conexión\n",
    "conn = conectar_bd()\n",
    "if conn:\n",
    "    conn.close()"
   ]
  },
  {
   "cell_type": "markdown",
   "id": "0bf12ba9-208c-4bd2-8d99-e7be52da664c",
   "metadata": {},
   "source": [
    "## Función para ejecutar queries"
   ]
  },
  {
   "cell_type": "code",
   "execution_count": 4,
   "id": "8ffa39b8-ac89-4c7f-b3e8-26019cc5c835",
   "metadata": {},
   "outputs": [],
   "source": [
    "def ejecutar_query(query, params=None):\n",
    "    \"\"\"Ejecutar query y retornar DataFrame\"\"\"\n",
    "    try:\n",
    "        conn = psycopg2.connect(**DB_CONFIG)\n",
    "        df = pd.read_sql_query(query, conn, params=params)\n",
    "        conn.close()\n",
    "        return df\n",
    "    except Exception as e:\n",
    "        print(f\"Error: {e}\")\n",
    "        return None"
   ]
  },
  {
   "cell_type": "markdown",
   "id": "7d8aa48b-627e-43ba-b84a-b5d7ce806ed1",
   "metadata": {},
   "source": [
    "## Cargar y explorar datos"
   ]
  },
  {
   "cell_type": "code",
   "execution_count": 5,
   "id": "f49f4aa1-9355-47f5-a3c0-fbcbe70b26b1",
   "metadata": {},
   "outputs": [
    {
     "name": "stdout",
     "output_type": "stream",
     "text": [
      "📊 Datos de productos:\n",
      "Total de productos: 10\n",
      "Columnas: ['id', 'nombre', 'categoria', 'precio', 'stock', 'descripcion', 'fecha_creacion', 'fecha_actualizacion']\n",
      "\n",
      "Primeras 5 filas:\n"
     ]
    },
    {
     "data": {
      "text/html": [
       "<div>\n",
       "<style scoped>\n",
       "    .dataframe tbody tr th:only-of-type {\n",
       "        vertical-align: middle;\n",
       "    }\n",
       "\n",
       "    .dataframe tbody tr th {\n",
       "        vertical-align: top;\n",
       "    }\n",
       "\n",
       "    .dataframe thead th {\n",
       "        text-align: right;\n",
       "    }\n",
       "</style>\n",
       "<table border=\"1\" class=\"dataframe\">\n",
       "  <thead>\n",
       "    <tr style=\"text-align: right;\">\n",
       "      <th></th>\n",
       "      <th>id</th>\n",
       "      <th>nombre</th>\n",
       "      <th>categoria</th>\n",
       "      <th>precio</th>\n",
       "      <th>stock</th>\n",
       "      <th>descripcion</th>\n",
       "      <th>fecha_creacion</th>\n",
       "      <th>fecha_actualizacion</th>\n",
       "    </tr>\n",
       "  </thead>\n",
       "  <tbody>\n",
       "    <tr>\n",
       "      <th>0</th>\n",
       "      <td>1</td>\n",
       "      <td>Laptop Gaming RGB</td>\n",
       "      <td>Electrónicos</td>\n",
       "      <td>1299.99</td>\n",
       "      <td>15</td>\n",
       "      <td>Laptop gaming con RGB y alta performance</td>\n",
       "      <td>2025-08-02 14:36:05.139278</td>\n",
       "      <td>2025-08-02 14:36:05.139278</td>\n",
       "    </tr>\n",
       "    <tr>\n",
       "      <th>1</th>\n",
       "      <td>2</td>\n",
       "      <td>Mouse Inalámbrico Pro</td>\n",
       "      <td>Accesorios</td>\n",
       "      <td>29.99</td>\n",
       "      <td>50</td>\n",
       "      <td>Mouse ergonómico inalámbrico con sensor óptico</td>\n",
       "      <td>2025-08-02 14:36:05.139278</td>\n",
       "      <td>2025-08-02 14:36:05.139278</td>\n",
       "    </tr>\n",
       "    <tr>\n",
       "      <th>2</th>\n",
       "      <td>3</td>\n",
       "      <td>Teclado Mecánico RGB</td>\n",
       "      <td>Accesorios</td>\n",
       "      <td>89.99</td>\n",
       "      <td>30</td>\n",
       "      <td>Teclado mecánico con switches azules y RGB</td>\n",
       "      <td>2025-08-02 14:36:05.139278</td>\n",
       "      <td>2025-08-02 14:36:05.139278</td>\n",
       "    </tr>\n",
       "    <tr>\n",
       "      <th>3</th>\n",
       "      <td>4</td>\n",
       "      <td>Monitor 4K Ultra</td>\n",
       "      <td>Electrónicos</td>\n",
       "      <td>399.99</td>\n",
       "      <td>12</td>\n",
       "      <td>Monitor 4K de 27 pulgadas con HDR</td>\n",
       "      <td>2025-08-02 14:36:05.139278</td>\n",
       "      <td>2025-08-02 14:36:05.139278</td>\n",
       "    </tr>\n",
       "    <tr>\n",
       "      <th>4</th>\n",
       "      <td>5</td>\n",
       "      <td>Webcam HD 1080p</td>\n",
       "      <td>Accesorios</td>\n",
       "      <td>59.99</td>\n",
       "      <td>25</td>\n",
       "      <td>Webcam Full HD con micrófono integrado</td>\n",
       "      <td>2025-08-02 14:36:05.139278</td>\n",
       "      <td>2025-08-02 14:36:05.139278</td>\n",
       "    </tr>\n",
       "  </tbody>\n",
       "</table>\n",
       "</div>"
      ],
      "text/plain": [
       "   id                 nombre     categoria   precio  stock  \\\n",
       "0   1      Laptop Gaming RGB  Electrónicos  1299.99     15   \n",
       "1   2  Mouse Inalámbrico Pro    Accesorios    29.99     50   \n",
       "2   3   Teclado Mecánico RGB    Accesorios    89.99     30   \n",
       "3   4       Monitor 4K Ultra  Electrónicos   399.99     12   \n",
       "4   5        Webcam HD 1080p    Accesorios    59.99     25   \n",
       "\n",
       "                                      descripcion             fecha_creacion  \\\n",
       "0        Laptop gaming con RGB y alta performance 2025-08-02 14:36:05.139278   \n",
       "1  Mouse ergonómico inalámbrico con sensor óptico 2025-08-02 14:36:05.139278   \n",
       "2      Teclado mecánico con switches azules y RGB 2025-08-02 14:36:05.139278   \n",
       "3               Monitor 4K de 27 pulgadas con HDR 2025-08-02 14:36:05.139278   \n",
       "4          Webcam Full HD con micrófono integrado 2025-08-02 14:36:05.139278   \n",
       "\n",
       "         fecha_actualizacion  \n",
       "0 2025-08-02 14:36:05.139278  \n",
       "1 2025-08-02 14:36:05.139278  \n",
       "2 2025-08-02 14:36:05.139278  \n",
       "3 2025-08-02 14:36:05.139278  \n",
       "4 2025-08-02 14:36:05.139278  "
      ]
     },
     "execution_count": 5,
     "metadata": {},
     "output_type": "execute_result"
    }
   ],
   "source": [
    "# Cargar datos de productos\n",
    "query_productos = \"SELECT * FROM productos ORDER BY fecha_creacion DESC\"\n",
    "df_productos = ejecutar_query(query_productos)\n",
    "\n",
    "print(\"📊 Datos de productos:\")\n",
    "print(f\"Total de productos: {len(df_productos)}\")\n",
    "print(f\"Columnas: {list(df_productos.columns)}\")\n",
    "print(\"\\nPrimeras 5 filas:\")\n",
    "df_productos.head()"
   ]
  },
  {
   "cell_type": "markdown",
   "id": "d30d9c8a-9ca8-453b-9d8e-5d177c91afaf",
   "metadata": {},
   "source": [
    "## Análisis exploratorio"
   ]
  },
  {
   "cell_type": "code",
   "execution_count": 6,
   "id": "5291d217-2269-46c7-8040-9fef2b635b2a",
   "metadata": {},
   "outputs": [
    {
     "name": "stdout",
     "output_type": "stream",
     "text": [
      "📈 Estadísticas de precios por categoría:\n",
      "              count    mean     min      max\n",
      "categoria                                   \n",
      "Accesorios        4   54.99   29.99    89.99\n",
      "Electrónicos      4  507.49  129.99  1299.99\n",
      "Gaming            2   87.49   24.99   149.99\n"
     ]
    }
   ],
   "source": [
    "# Estadísticas básicas\n",
    "print(\"📈 Estadísticas de precios por categoría:\")\n",
    "precio_stats = df_productos.groupby('categoria')['precio'].agg(['count', 'mean', 'min', 'max']).round(2)\n",
    "print(precio_stats)"
   ]
  },
  {
   "cell_type": "markdown",
   "id": "dbccd061-46bd-40e3-8ef3-9ce69e33b1b7",
   "metadata": {},
   "source": [
    "## Visualizaciones"
   ]
  },
  {
   "cell_type": "code",
   "execution_count": 7,
   "id": "35af5a8b-66c2-4f03-bad5-3162ce5de7f7",
   "metadata": {},
   "outputs": [
    {
     "data": {
      "image/png": "[encoded data removed]",
      "text/plain": [
       "<Figure size 1500x1000 with 4 Axes>"
      ]
     },
     "metadata": {},
     "output_type": "display_data"
    }
   ],
   "source": [
    "# Configurar estilo\n",
    "plt.style.use('seaborn-v0_8')\n",
    "sns.set_palette(\"husl\")\n",
    "\n",
    "# Crear figura con subplots\n",
    "fig, axes = plt.subplots(2, 2, figsize=(15, 10))\n",
    "fig.suptitle('📊 Análisis de Productos', fontsize=16, fontweight='bold')\n",
    "\n",
    "# 1. Distribución de precios por categoría\n",
    "sns.boxplot(data=df_productos, x='categoria', y='precio', ax=axes[0,0])\n",
    "axes[0,0].set_title('Distribución de Precios por Categoría')\n",
    "axes[0,0].tick_params(axis='x', rotation=45)\n",
    "\n",
    "# 2. Histograma de precios\n",
    "axes[0,1].hist(df_productos['precio'], bins=15, alpha=0.7, color='skyblue', edgecolor='black')\n",
    "axes[0,1].set_title('Distribución de Precios')\n",
    "axes[0,1].set_xlabel('Precio (CLP)')\n",
    "axes[0,1].set_ylabel('Frecuencia')\n",
    "\n",
    "# 3. Stock por categoría\n",
    "stock_por_categoria = df_productos.groupby('categoria')['stock'].sum()\n",
    "axes[1,0].bar(stock_por_categoria.index, stock_por_categoria.values, color='lightgreen')\n",
    "axes[1,0].set_title('Stock Total por Categoría')\n",
    "axes[1,0].tick_params(axis='x', rotation=45)\n",
    "\n",
    "# 4. Relación precio vs stock\n",
    "axes[1,1].scatter(df_productos['stock'], df_productos['precio'], alpha=0.6, color='coral')\n",
    "axes[1,1].set_title('Relación Stock vs Precio')\n",
    "axes[1,1].set_xlabel('Stock')\n",
    "axes[1,1].set_ylabel('Precio (CLP)')\n",
    "\n",
    "plt.tight_layout()\n",
    "plt.show()\n"
   ]
  },
  {
   "cell_type": "markdown",
   "id": "2e4a2bbd-e308-4ed8-94bc-71ceb26d031c",
   "metadata": {},
   "source": [
    "## Cargar datos de ventas"
   ]
  },
  {
   "cell_type": "code",
   "execution_count": 8,
   "id": "787beb49-789a-4788-adb8-f4d88c85e061",
   "metadata": {},
   "outputs": [
    {
     "name": "stdout",
     "output_type": "stream",
     "text": [
      "📋 Total de ventas: 10\n",
      "Ingresos totales: $2,679.81 CLP\n",
      "Ticket promedio: $267.98 CLP\n"
     ]
    },
    {
     "data": {
      "text/html": [
       "<div>\n",
       "<style scoped>\n",
       "    .dataframe tbody tr th:only-of-type {\n",
       "        vertical-align: middle;\n",
       "    }\n",
       "\n",
       "    .dataframe tbody tr th {\n",
       "        vertical-align: top;\n",
       "    }\n",
       "\n",
       "    .dataframe thead th {\n",
       "        text-align: right;\n",
       "    }\n",
       "</style>\n",
       "<table border=\"1\" class=\"dataframe\">\n",
       "  <thead>\n",
       "    <tr style=\"text-align: right;\">\n",
       "      <th></th>\n",
       "      <th>venta_id</th>\n",
       "      <th>fecha_venta</th>\n",
       "      <th>cliente_nombre</th>\n",
       "      <th>cliente_email</th>\n",
       "      <th>producto_nombre</th>\n",
       "      <th>categoria</th>\n",
       "      <th>cantidad</th>\n",
       "      <th>precio_unitario</th>\n",
       "      <th>total</th>\n",
       "      <th>subtotal_calculado</th>\n",
       "    </tr>\n",
       "  </thead>\n",
       "  <tbody>\n",
       "    <tr>\n",
       "      <th>0</th>\n",
       "      <td>1</td>\n",
       "      <td>2025-08-02 14:36:05.141854</td>\n",
       "      <td>Ana García</td>\n",
       "      <td>ana.garcia@email.com</td>\n",
       "      <td>Laptop Gaming RGB</td>\n",
       "      <td>Electrónicos</td>\n",
       "      <td>1</td>\n",
       "      <td>1299.99</td>\n",
       "      <td>1299.99</td>\n",
       "      <td>1299.99</td>\n",
       "    </tr>\n",
       "    <tr>\n",
       "      <th>1</th>\n",
       "      <td>2</td>\n",
       "      <td>2025-08-02 14:36:05.141854</td>\n",
       "      <td>Carlos Rodríguez</td>\n",
       "      <td>carlos.r@email.com</td>\n",
       "      <td>Mouse Inalámbrico Pro</td>\n",
       "      <td>Accesorios</td>\n",
       "      <td>2</td>\n",
       "      <td>29.99</td>\n",
       "      <td>59.98</td>\n",
       "      <td>59.98</td>\n",
       "    </tr>\n",
       "    <tr>\n",
       "      <th>2</th>\n",
       "      <td>3</td>\n",
       "      <td>2025-08-02 14:36:05.141854</td>\n",
       "      <td>María López</td>\n",
       "      <td>maria.lopez@email.com</td>\n",
       "      <td>Teclado Mecánico RGB</td>\n",
       "      <td>Accesorios</td>\n",
       "      <td>1</td>\n",
       "      <td>89.99</td>\n",
       "      <td>89.99</td>\n",
       "      <td>89.99</td>\n",
       "    </tr>\n",
       "    <tr>\n",
       "      <th>3</th>\n",
       "      <td>4</td>\n",
       "      <td>2025-08-02 14:36:05.141854</td>\n",
       "      <td>Pedro Martínez</td>\n",
       "      <td>pedro.m@email.com</td>\n",
       "      <td>Monitor 4K Ultra</td>\n",
       "      <td>Electrónicos</td>\n",
       "      <td>1</td>\n",
       "      <td>399.99</td>\n",
       "      <td>399.99</td>\n",
       "      <td>399.99</td>\n",
       "    </tr>\n",
       "    <tr>\n",
       "      <th>4</th>\n",
       "      <td>5</td>\n",
       "      <td>2025-08-02 14:36:05.141854</td>\n",
       "      <td>Sofia Chen</td>\n",
       "      <td>sofia.chen@email.com</td>\n",
       "      <td>Webcam HD 1080p</td>\n",
       "      <td>Accesorios</td>\n",
       "      <td>3</td>\n",
       "      <td>59.99</td>\n",
       "      <td>179.97</td>\n",
       "      <td>179.97</td>\n",
       "    </tr>\n",
       "  </tbody>\n",
       "</table>\n",
       "</div>"
      ],
      "text/plain": [
       "   venta_id                fecha_venta    cliente_nombre  \\\n",
       "0         1 2025-08-02 14:36:05.141854        Ana García   \n",
       "1         2 2025-08-02 14:36:05.141854  Carlos Rodríguez   \n",
       "2         3 2025-08-02 14:36:05.141854       María López   \n",
       "3         4 2025-08-02 14:36:05.141854    Pedro Martínez   \n",
       "4         5 2025-08-02 14:36:05.141854        Sofia Chen   \n",
       "\n",
       "           cliente_email        producto_nombre     categoria  cantidad  \\\n",
       "0   ana.garcia@email.com      Laptop Gaming RGB  Electrónicos         1   \n",
       "1     carlos.r@email.com  Mouse Inalámbrico Pro    Accesorios         2   \n",
       "2  maria.lopez@email.com   Teclado Mecánico RGB    Accesorios         1   \n",
       "3      pedro.m@email.com       Monitor 4K Ultra  Electrónicos         1   \n",
       "4   sofia.chen@email.com        Webcam HD 1080p    Accesorios         3   \n",
       "\n",
       "   precio_unitario    total  subtotal_calculado  \n",
       "0          1299.99  1299.99             1299.99  \n",
       "1            29.99    59.98               59.98  \n",
       "2            89.99    89.99               89.99  \n",
       "3           399.99   399.99              399.99  \n",
       "4            59.99   179.97              179.97  "
      ]
     },
     "execution_count": 8,
     "metadata": {},
     "output_type": "execute_result"
    }
   ],
   "source": [
    "# Cargar ventas con detalles\n",
    "query_ventas = \"\"\"\n",
    "SELECT * FROM vista_ventas_detalle \n",
    "ORDER BY fecha_venta DESC\n",
    "\"\"\"\n",
    "df_ventas = ejecutar_query(query_ventas)\n",
    "\n",
    "print(f\"📋 Total de ventas: {len(df_ventas)}\")\n",
    "print(f\"Ingresos totales: ${df_ventas['total'].sum():,.2f} CLP\")\n",
    "print(f\"Ticket promedio: ${df_ventas['total'].mean():.2f} CLP\")\n",
    "\n",
    "df_ventas.head()"
   ]
  },
  {
   "cell_type": "markdown",
   "id": "51424826-8418-4019-a440-adbf5cc5585e",
   "metadata": {},
   "source": [
    "## Análisis de ventas"
   ]
  },
  {
   "cell_type": "code",
   "execution_count": 9,
   "id": "79530245-6507-4b4e-9b0b-bc78ed3ba439",
   "metadata": {},
   "outputs": [
    {
     "name": "stdout",
     "output_type": "stream",
     "text": [
      "💰 Resumen de ventas por categoría:\n",
      "              num_transacciones  cantidad    total\n",
      "categoria                                         \n",
      "Accesorios                    5        12   519.88\n",
      "Electrónicos                  3         4  1959.96\n",
      "Gaming                        2         3   199.97\n"
     ]
    }
   ],
   "source": [
    "# Ventas por categoría\n",
    "ventas_categoria = df_ventas.groupby('categoria').agg({\n",
    "    'venta_id': 'count',\n",
    "    'cantidad': 'sum', \n",
    "    'total': 'sum'\n",
    "}).rename(columns={'venta_id': 'num_transacciones'})\n",
    "\n",
    "print(\"💰 Resumen de ventas por categoría:\")\n",
    "print(ventas_categoria.round(2))"
   ]
  },
  {
   "cell_type": "markdown",
   "id": "60cf253d-7a7e-4eb0-9c7d-d3878b1aa387",
   "metadata": {},
   "source": [
    "## Probar API local"
   ]
  },
  {
   "cell_type": "code",
   "execution_count": 10,
   "id": "4ce904ef-e9cb-46b6-8e3b-6891b58e8d43",
   "metadata": {},
   "outputs": [],
   "source": [
    "# URL de la API (ajustar según configuración)\n",
    "API_URL = \"http://python-api:4000\"  # URL interna de Docker\n",
    "\n",
    "def probar_api():\n",
    "    \"\"\"Probar endpoints de la API\"\"\"\n",
    "    try:\n",
    "        # Test health endpoint\n",
    "        response = requests.get(f\"{API_URL}/health\", timeout=5)\n",
    "        if response.status_code == 200:\n",
    "            print(\"✅ API funcionando correctamente\")\n",
    "            print(f\"Status: {response.json()['status']}\")\n",
    "        else:\n",
    "            print(f\"❌ API error: {response.status_code}\")\n",
    "            \n",
    "        # Test productos endpoint\n",
    "        response = requests.get(f\"{API_URL}/productos\", timeout=5)\n",
    "        if response.status_code == 200:\n",
    "            datos = response.json()\n",
    "            print(f\"✅ Endpoint productos: {datos['total']} productos obtenidos\")\n",
    "        else:\n",
    "            print(f\"❌ Error productos: {response.status_code}\")\n",
    "            \n",
    "        # Test predicción\n",
    "        test_data = {\"categoria\": \"Gaming\", \"stock\": 5}\n",
    "        response = requests.post(f\"{API_URL}/predict/precio\", \n",
    "                               json=test_data, timeout=5)\n",
    "        if response.status_code == 200:\n",
    "            prediccion = response.json()['prediccion']\n",
    "            print(f\"✅ Predicción: ${prediccion['precio_predicho']:.2f} CLP\")\n",
    "        else:\n",
    "            print(f\"❌ Error predicción: {response.status_code}\")\n",
    "            \n",
    "    except requests.exceptions.RequestException as e:\n",
    "        print(f\"❌ Error conectando a API: {e}\")\n",
    "        print(\"💡 Asegúrate de que el contenedor python-api esté corriendo\")"
   ]
  },
  {
   "cell_type": "code",
   "execution_count": 11,
   "id": "12a5af0e-cd20-46dd-8fa5-cad513674f3e",
   "metadata": {},
   "outputs": [
    {
     "name": "stdout",
     "output_type": "stream",
     "text": [
      "✅ API funcionando correctamente\n",
      "Status: healthy\n",
      "✅ Endpoint productos: 10 productos obtenidos\n",
      "✅ Predicción: $292.50 CLP\n"
     ]
    }
   ],
   "source": [
    "# Probar API\n",
    "probar_api()"
   ]
  },
  {
   "cell_type": "markdown",
   "id": "cf5a8f5c-9dcc-4203-a0d4-fc082702e92c",
   "metadata": {},
   "source": [
    "## Conexión a Qdrant (base de datos vectorial)"
   ]
  },
  {
   "cell_type": "code",
   "execution_count": 15,
   "id": "bac9a20b-4b30-42bd-b443-3b86d4758210",
   "metadata": {},
   "outputs": [
    {
     "name": "stdout",
     "output_type": "stream",
     "text": [
      "✅ Conexión a Qdrant exitosa\n",
      "📚 Colecciones existentes: 0\n"
     ]
    }
   ],
   "source": [
    "try:\n",
    "    from qdrant_client import QdrantClient\n",
    "    \n",
    "    # Conectar a Qdrant\n",
    "    qdrant_client = QdrantClient(host=\"qdrant\", port=6333)\n",
    "    \n",
    "    # Obtener información del servidor\n",
    "    print(\"✅ Conexión a Qdrant exitosa\")\n",
    "    \n",
    "    # Listar colecciones existentes\n",
    "    collections = qdrant_client.get_collections()\n",
    "    print(f\"📚 Colecciones existentes: {len(collections.collections)}\")\n",
    "    \n",
    "except ImportError:\n",
    "    print(\"⚠️  qdrant-client no instalado\")\n",
    "except Exception as e:\n",
    "    print(f\"❌ Error conectando a Qdrant: {e}\")"
   ]
  },
  {
   "cell_type": "code",
   "execution_count": 5,
   "id": "803bd645-93b8-425c-ac3c-29c31c898855",
   "metadata": {},
   "outputs": [
    {
     "name": "stderr",
     "output_type": "stream",
     "text": [
      "[NbConvertApp] Converting notebook example.ipynb to pdf\n",
      "[NbConvertApp] Support files will be in example_files/\n",
      "[NbConvertApp] Making directory ./example_files\n",
      "[NbConvertApp] Writing 33843 bytes to notebook.tex\n",
      "[NbConvertApp] Building PDF\n",
      "[NbConvertApp] Running xelatex 3 times: ['xelatex', 'notebook.tex', '-quiet']\n",
      "[NbConvertApp] Running bibtex 1 time: ['bibtex', 'notebook']\n",
      "[NbConvertApp] WARNING | bibtex had problems, most likely because there were no citations\n",
      "[NbConvertApp] PDF successfully created\n",
      "[NbConvertApp] Writing 103723 bytes to example.pdf\n"
     ]
    },
    {
     "data": {
      "text/plain": [
       "CompletedProcess(args=['jupyter', 'nbconvert', '--to', 'pdf', '--no-input', 'example.ipynb'], returncode=0)"
      ]
     },
     "execution_count": 5,
     "metadata": {},
     "output_type": "execute_result"
    }
   ],
   "source": [
    "import os\n",
    "import subprocess\n",
    "\n",
    "# Exportar sin código\n",
    "subprocess.run([\n",
    "    'jupyter', 'nbconvert', \n",
    "    '--to', 'pdf', \n",
    "    '--no-input',\n",
    "    'example.ipynb'\n",
    "])"
   ]
  },
  {
   "cell_type": "code",
   "execution_count": null,
   "id": "489ae614-0f7c-4693-ae4b-68ed0864ed8b",
   "metadata": {},
   "outputs": [],
   "source": []
  }
 ],
 "metadata": {
  "kernelspec": {
   "display_name": "Python 3 (ipykernel)",
   "language": "python",
   "name": "python3"
  },
  "language_info": {
   "codemirror_mode": {
    "name": "ipython",
    "version": 3
   },
   "file_extension": ".py",
   "mimetype": "text/x-python",
   "name": "python",
   "nbconvert_exporter": "python",
   "pygments_lexer": "ipython3",
   "version": "3.11.6"
  }
 },
 "nbformat": 4,
 "nbformat_minor": 5
}
